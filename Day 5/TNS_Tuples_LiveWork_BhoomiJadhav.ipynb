{
 "cells": [
  {
   "cell_type": "code",
   "execution_count": null,
   "metadata": {},
   "outputs": [],
   "source": []
  },
  {
   "cell_type": "code",
   "execution_count": 8,
   "metadata": {
    "colab": {
     "base_uri": "https://localhost:8080/"
    },
    "executionInfo": {
     "elapsed": 43,
     "status": "ok",
     "timestamp": 1754023950669,
     "user": {
      "displayName": "051_ Bhoomi Jadhav",
      "userId": "02389554652764327161"
     },
     "user_tz": -330
    },
    "id": "v0Y2qwSB6pD6",
    "outputId": "e7dff9a8-cf6d-45f0-c644-e2ca02e6d877"
   },
   "outputs": [
    {
     "name": "stdout",
     "output_type": "stream",
     "text": [
      "[1, 2]\n"
     ]
    }
   ],
   "source": [
    "#que. print the target element indexes in tuple\n",
    "my_tuples=(10,20,20,30,40,40,50)\n",
    "target_element = 20\n",
    "index=[]\n",
    "for i in range(len(my_tuples)):\n",
    "    if my_tuples[i] == target_element:\n",
    "        index.append(i)\n",
    "print(index)\n",
    "\n"
   ]
  },
  {
   "cell_type": "code",
   "execution_count": 9,
   "metadata": {
    "colab": {
     "base_uri": "https://localhost:8080/"
    },
    "executionInfo": {
     "elapsed": 52,
     "status": "ok",
     "timestamp": 1754024210017,
     "user": {
      "displayName": "051_ Bhoomi Jadhav",
      "userId": "02389554652764327161"
     },
     "user_tz": -330
    },
    "id": "V1xClN7y--o_",
    "outputId": "570d5381-2a3c-4fc3-d36a-8d2902ddc4d5"
   },
   "outputs": [
    {
     "name": "stdout",
     "output_type": "stream",
     "text": [
      "[1, 2, 3, 4, 5, 6]\n"
     ]
    }
   ],
   "source": [
    "#flatten tuple of tuples\n",
    "\n",
    "nested_tuple = ((1,2),(3,4),(5,6))\n",
    "flat_list=[]\n",
    "\n",
    "for t in nested_tuple:\n",
    "    for num in t:\n",
    "        flat_list.append(num)\n",
    "print(flat_list)"
   ]
  },
  {
   "cell_type": "code",
   "execution_count": 12,
   "metadata": {
    "colab": {
     "base_uri": "https://localhost:8080/"
    },
    "executionInfo": {
     "elapsed": 27,
     "status": "ok",
     "timestamp": 1754024610386,
     "user": {
      "displayName": "051_ Bhoomi Jadhav",
      "userId": "02389554652764327161"
     },
     "user_tz": -330
    },
    "id": "TvJiKGqVARE1",
    "outputId": "ac721162-6a01-4e3f-c88e-02852ac65f99"
   },
   "outputs": [
    {
     "name": "stdout",
     "output_type": "stream",
     "text": [
      "(50, 20, 30, 40, 10)\n"
     ]
    }
   ],
   "source": [
    "#swap first and last element\n",
    "tuple1=(10,20,30,40,50)\n",
    "i=list(tuple1)\n",
    "temp=i[0]\n",
    "i[0]=i[-1]\n",
    "i[-1]=temp\n",
    "print(tuple(i))"
   ]
  }
 ],
 "metadata": {
  "colab": {
   "authorship_tag": "ABX9TyN1gegIfIXI7RcImKAtrfQP",
   "provenance": []
  },
  "kernelspec": {
   "display_name": "Python 3",
   "name": "python3"
  },
  "language_info": {
   "name": "python"
  }
 },
 "nbformat": 4,
 "nbformat_minor": 0
}
