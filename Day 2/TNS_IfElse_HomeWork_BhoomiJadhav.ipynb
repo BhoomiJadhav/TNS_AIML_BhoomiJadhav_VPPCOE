{
 "cells": [
  {
   "cell_type": "code",
   "execution_count": 1,
   "metadata": {
    "colab": {
     "base_uri": "https://localhost:8080/"
    },
    "executionInfo": {
     "elapsed": 26778,
     "status": "ok",
     "timestamp": 1754279235614,
     "user": {
      "displayName": "051_ Bhoomi Jadhav",
      "userId": "02389554652764327161"
     },
     "user_tz": -330
    },
    "id": "Ro798tf3L8pG",
    "outputId": "7dcac5f3-9e1c-4168-95dd-852744ce864b"
   },
   "outputs": [
    {
     "name": "stdout",
     "output_type": "stream",
     "text": [
      "Strong\n"
     ]
    }
   ],
   "source": [
    "#Q.1\n",
    "password = input(\"Enter password: \")\n",
    "\n",
    "has_upper = any(c.isupper() for c in password)\n",
    "has_lower = any(c.islower() for c in password)\n",
    "has_digit = any(c.isdigit() for c in password)\n",
    "has_special = any(c in \"!@#$\" for c in password)\n",
    "\n",
    "if len(password) >= 8:\n",
    "    if has_upper and has_lower and has_digit and has_special:\n",
    "        print(\"Strong\")\n",
    "    else:\n",
    "        print(\"Moderate\")\n",
    "else:\n",
    "    print(\"Weak\")\n"
   ]
  },
  {
   "cell_type": "code",
   "execution_count": null,
   "metadata": {
    "colab": {
     "base_uri": "https://localhost:8080/"
    },
    "executionInfo": {
     "elapsed": 12023,
     "status": "ok",
     "timestamp": 1754279247643,
     "user": {
      "displayName": "051_ Bhoomi Jadhav",
      "userId": "02389554652764327161"
     },
     "user_tz": -330
    },
    "id": "0JCUdmdDLuIb",
    "outputId": "5ab78040-1bc7-42be-dc83-d5cdcd2b77a0"
   },
   "outputs": [
    {
     "name": "stdout",
     "output_type": "stream",
     "text": [
      "Enter exam score: 80\n",
      "Enter attendance percentage: 77\n",
      "Pass\n"
     ]
    }
   ],
   "source": [
    "#Q.2\n",
    "\n",
    "exam_score = int(input(\"Enter exam score: \"))\n",
    "attendance = int(input(\"Enter attendance percentage: \"))\n",
    "\n",
    "if exam_score >= 50 and attendance >= 75:\n",
    "    print(\"Pass\")\n",
    "elif exam_score < 50 and attendance < 75:\n",
    "    print(\"Fail due to score and attendance\")\n",
    "elif exam_score < 50:\n",
    "    print(\"Fail due to score\")\n",
    "elif attendance < 75:\n",
    "    print(\"Fail due to attendance\")\n"
   ]
  },
  {
   "cell_type": "code",
   "execution_count": null,
   "metadata": {
    "colab": {
     "base_uri": "https://localhost:8080/"
    },
    "executionInfo": {
     "elapsed": 9193,
     "status": "ok",
     "timestamp": 1754279321103,
     "user": {
      "displayName": "051_ Bhoomi Jadhav",
      "userId": "02389554652764327161"
     },
     "user_tz": -330
    },
    "id": "5ilkx0bXMeVt",
    "outputId": "0e4f2089-9d0d-4c40-bdef-9b53bc97f511"
   },
   "outputs": [
    {
     "name": "stdout",
     "output_type": "stream",
     "text": [
      "Enter vehicle type (car/truck/motorcycle): motorcycle\n",
      "Enter vehicle speed in mph: 40\n",
      "No fine.\n"
     ]
    }
   ],
   "source": [
    "#Q.3\n",
    "vehicle_type = input(\"Enter vehicle type (car/truck/motorcycle): \").lower()\n",
    "speed = int(input(\"Enter vehicle speed in mph: \"))\n",
    "\n",
    "speed_limit = 60\n",
    "over_speed = speed - speed_limit\n",
    "fine = 0\n",
    "suspension = False\n",
    "\n",
    "if over_speed > 0:\n",
    "    if vehicle_type == \"car\":\n",
    "        if 1 <= over_speed <= 10:\n",
    "            fine = 50\n",
    "        elif 11 <= over_speed <= 20:\n",
    "            fine = 100\n",
    "        else:\n",
    "            fine = 200\n",
    "            suspension = True\n",
    "\n",
    "    elif vehicle_type == \"truck\":\n",
    "        if 1 <= over_speed <= 10:\n",
    "            fine = 50 * 2\n",
    "        elif 11 <= over_speed <= 20:\n",
    "            fine = 100 * 2\n",
    "        else:\n",
    "            fine = 200 * 2\n",
    "        if over_speed > 15:\n",
    "            suspension = True\n",
    "\n",
    "    elif vehicle_type == \"motorcycle\":\n",
    "        if 1 <= over_speed <= 10:\n",
    "            fine = 50 // 2\n",
    "        elif 11 <= over_speed <= 20:\n",
    "            fine = 100 // 2\n",
    "        else:\n",
    "            fine = 200 // 2\n",
    "        if over_speed > 25:\n",
    "            suspension = True\n",
    "\n",
    "if over_speed <= 0:\n",
    "    print(\"No fine.\")\n",
    "else:\n",
    "    print(\"Fine: $\", fine)\n",
    "    if suspension:\n",
    "        print(\"License suspension warning\")\n"
   ]
  },
  {
   "cell_type": "code",
   "execution_count": null,
   "metadata": {
    "colab": {
     "base_uri": "https://localhost:8080/"
    },
    "executionInfo": {
     "elapsed": 10906,
     "status": "ok",
     "timestamp": 1754279380042,
     "user": {
      "displayName": "051_ Bhoomi Jadhav",
      "userId": "02389554652764327161"
     },
     "user_tz": -330
    },
    "id": "nwKTpC3rMru3",
    "outputId": "71a01800-5ba4-4a81-862f-22a19cb45672"
   },
   "outputs": [
    {
     "name": "stdout",
     "output_type": "stream",
     "text": [
      "Enter applicant's age: 21\n",
      "Enter monthly income: 25000\n",
      "Enter credit score: 7\n",
      "Rejected due to poor credit\n"
     ]
    }
   ],
   "source": [
    "#Q.4\n",
    "age = int(input(\"Enter applicant's age: \"))\n",
    "income = float(input(\"Enter monthly income: \"))\n",
    "credit_score = int(input(\"Enter credit score: \"))\n",
    "\n",
    "reasons = []\n",
    "\n",
    "if age < 21 or age > 60:\n",
    "    reasons.append(\"Rejected due to age\")\n",
    "if income < 2500:\n",
    "    reasons.append(\"Rejected due to low income\")\n",
    "if credit_score < 600:\n",
    "    reasons.append(\"Rejected due to poor credit\")\n",
    "\n",
    "if not reasons:\n",
    "    print(\"Loan Approved\")\n",
    "else:\n",
    "    for reason in reasons:\n",
    "        print(reason)\n"
   ]
  }
 ],
 "metadata": {
  "colab": {
   "authorship_tag": "ABX9TyNJ7BJCbRI7EedRWgne1vjB",
   "provenance": []
  },
  "kernelspec": {
   "display_name": "Python 3",
   "name": "python3"
  },
  "language_info": {
   "codemirror_mode": {
    "name": "ipython",
    "version": 3
   },
   "file_extension": ".py",
   "mimetype": "text/x-python",
   "name": "python",
   "nbconvert_exporter": "python",
   "pygments_lexer": "ipython3",
   "version": "3.13.5"
  }
 },
 "nbformat": 4,
 "nbformat_minor": 0
}
