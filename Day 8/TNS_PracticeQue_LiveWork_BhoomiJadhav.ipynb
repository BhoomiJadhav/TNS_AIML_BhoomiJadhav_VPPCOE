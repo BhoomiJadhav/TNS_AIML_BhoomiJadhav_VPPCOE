{
 "cells": [
  {
   "cell_type": "code",
   "execution_count": 5,
   "id": "46755e20",
   "metadata": {},
   "outputs": [
    {
     "name": "stdout",
     "output_type": "stream",
     "text": [
      "Prime\n"
     ]
    }
   ],
   "source": [
    "#Q.1 prime no\n",
    "num = int(input(\"Enter a number: \"))\n",
    "\n",
    "if num < 2:\n",
    "    print(\"Not prime\")\n",
    "else:\n",
    "    for i in range(2, int(num**0.5) + 1):\n",
    "        if num % i == 0:\n",
    "            print(\"Not prime\")\n",
    "            break\n",
    "    else:\n",
    "        print(\"Prime\")\n"
   ]
  },
  {
   "cell_type": "code",
   "execution_count": 4,
   "id": "c4eb52ad",
   "metadata": {},
   "outputs": [
    {
     "name": "stdout",
     "output_type": "stream",
     "text": [
      "Even numbers: [2, 4, 6, 8, 10]\n"
     ]
    }
   ],
   "source": [
    "#Q.2 return a new list with containing only even number from original list\n",
    "original_list = [1, 2, 3, 4, 5, 6, 7, 8, 9, 10]\n",
    "even_list=[num for num in original_list if num %2==0]\n",
    "print(\"Even numbers:\", even_list)"
   ]
  },
  {
   "cell_type": "code",
   "execution_count": null,
   "id": "08371608",
   "metadata": {},
   "outputs": [
    {
     "name": "stdout",
     "output_type": "stream",
     "text": [
      "Second largest number: 15\n"
     ]
    }
   ],
   "source": [
    "#Q.3 find the second largest number in list  using any built in sort function with simplest logic using two pointer\n",
    "\n",
    "\n",
    "nums = [10, 5, 20, 8, 15]\n",
    "first = second = float('-inf')\n",
    "\n",
    "for num in nums:\n",
    "    if num > first:\n",
    "        second = first\n",
    "        first = num\n",
    "    elif first > num > second:\n",
    "        second = num\n",
    "\n",
    "print(\"Second largest number:\", second)\n",
    "\n",
    "\n"
   ]
  },
  {
   "cell_type": "code",
   "execution_count": null,
   "id": "72e33262",
   "metadata": {},
   "outputs": [
    {
     "name": "stdout",
     "output_type": "stream",
     "text": [
      "Sorted list based on second element: [(5, 0), (2, 1), (4, 2), (1, 3)]\n"
     ]
    }
   ],
   "source": [
    "#Q.4 lgiven a list of tuples, write a funciton that returns a list of tuples sorted based on second element of each tuple\n",
    "nested_list= [(1, 3), (2, 1), (4, 2), (5, 0)]\n",
    "\n",
    "for i in range(len(nested_list)):\n",
    "    for j in range(i + 1, len(nested_list)):\n",
    "        if nested_list[i][1] > nested_list[j][1]:\n",
    "            nested_list[i], nested_list[j] = nested_list[j], nested_list[i]\n",
    "print(\"Sorted list based on second element:\", nested_list)\n",
    "     "
   ]
  },
  {
   "cell_type": "code",
   "execution_count": 8,
   "id": "5144c03c",
   "metadata": {},
   "outputs": [
    {
     "name": "stdout",
     "output_type": "stream",
     "text": [
      "Sum of tuple elements: 15\n"
     ]
    }
   ],
   "source": [
    "#Tuple - Write a python function that takes of tuple of numners and returns the sum of all elem\n",
    "\n",
    "my_tuple=(1,2,3,4,5)\n",
    "print(\"Sum of tuple elements:\", sum(my_tuple))\n"
   ]
  },
  {
   "cell_type": "code",
   "execution_count": 11,
   "id": "7ff7f6c4",
   "metadata": {},
   "outputs": [
    {
     "name": "stdout",
     "output_type": "stream",
     "text": [
      "Common elements: {4, 5}\n"
     ]
    }
   ],
   "source": [
    "#Q.6  given two lists, write a function return a common elements using set operaions\n",
    "list1 = [1, 2, 3, 4, 5]\n",
    "list2 = [4, 5, 6, 7, 8]\n",
    "set_1 = set(list1)\n",
    "set_2 = set(list2)\n",
    "common_elements = set_1.intersection(set_2)\n",
    "print(\"Common elements:\", common_elements)"
   ]
  },
  {
   "cell_type": "code",
   "execution_count": 13,
   "id": "8dc1ed06",
   "metadata": {},
   "outputs": [
    {
     "name": "stdout",
     "output_type": "stream",
     "text": [
      "Unique elements: [1, 2, 3, 4, 5]\n"
     ]
    }
   ],
   "source": [
    "#Q.7 write a python program to remove all duplicates from a list using set and return the unique elements\n",
    "original_list = [1, 2, 3, 4, 5, 1, 2, 3]\n",
    "unique_elements = list(set(original_list))\n",
    "print(\"Unique elements:\", unique_elements)\n"
   ]
  }
 ],
 "metadata": {
  "kernelspec": {
   "display_name": "Python 3",
   "language": "python",
   "name": "python3"
  },
  "language_info": {
   "codemirror_mode": {
    "name": "ipython",
    "version": 3
   },
   "file_extension": ".py",
   "mimetype": "text/x-python",
   "name": "python",
   "nbconvert_exporter": "python",
   "pygments_lexer": "ipython3",
   "version": "3.13.5"
  }
 },
 "nbformat": 4,
 "nbformat_minor": 5
}
