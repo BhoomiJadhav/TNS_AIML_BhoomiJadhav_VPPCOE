{
 "cells": [
  {
   "cell_type": "code",
   "execution_count": 1,
   "metadata": {
    "colab": {
     "base_uri": "https://localhost:8080/"
    },
    "executionInfo": {
     "elapsed": 17,
     "status": "ok",
     "timestamp": 1754279593704,
     "user": {
      "displayName": "051_ Bhoomi Jadhav",
      "userId": "02389554652764327161"
     },
     "user_tz": -330
    },
    "id": "OLF8SsAcNUqu",
    "outputId": "bd4ce961-431f-4846-eda3-a1d81c58ff28"
   },
   "outputs": [
    {
     "name": "stdout",
     "output_type": "stream",
     "text": [
      "Tiger is Stronger than Lion\n",
      "This is my dog's name Tiger Lion\n"
     ]
    }
   ],
   "source": [
    "dog=\"Tiger\"\n",
    "cat=\"Lion\"\n",
    "print(dog + \" is Stronger than \"+cat)\n",
    "print(\"This is my dog's name\", dog,cat)"
   ]
  },
  {
   "cell_type": "code",
   "execution_count": 2,
   "metadata": {
    "colab": {
     "base_uri": "https://localhost:8080/"
    },
    "executionInfo": {
     "elapsed": 22,
     "status": "ok",
     "timestamp": 1754279616385,
     "user": {
      "displayName": "051_ Bhoomi Jadhav",
      "userId": "02389554652764327161"
     },
     "user_tz": -330
    },
    "id": "TZJBfXtDNiyV",
    "outputId": "45f890b2-bbe4-4237-cfa4-e25fe7a80198"
   },
   "outputs": [
    {
     "name": "stdout",
     "output_type": "stream",
     "text": [
      "12 1.2 Bhoomi True A\n"
     ]
    }
   ],
   "source": [
    "#datatypes\n",
    "num = 12\n",
    "num2 = 1.2\n",
    "name =\"Bhoomi\"\n",
    "value = True\n",
    "Division =\"A\"\n",
    "print(num,num2,name,value,Division)"
   ]
  },
  {
   "cell_type": "code",
   "execution_count": 3,
   "metadata": {
    "colab": {
     "base_uri": "https://localhost:8080/",
     "height": 36
    },
    "executionInfo": {
     "elapsed": 57,
     "status": "ok",
     "timestamp": 1754279645461,
     "user": {
      "displayName": "051_ Bhoomi Jadhav",
      "userId": "02389554652764327161"
     },
     "user_tz": -330
    },
    "id": "2skmH_vFNqmY",
    "outputId": "4bca5681-4f13-43bd-94e6-c8effe8d7159"
   },
   "outputs": [
    {
     "data": {
      "text/plain": [
       "' Multi line comments\\n'"
      ]
     },
     "execution_count": 3,
     "metadata": {},
     "output_type": "execute_result"
    }
   ],
   "source": [
    "''' Multi line comments\n",
    "'''"
   ]
  },
  {
   "cell_type": "code",
   "execution_count": 4,
   "metadata": {
    "colab": {
     "base_uri": "https://localhost:8080/"
    },
    "executionInfo": {
     "elapsed": 56,
     "status": "ok",
     "timestamp": 1754279685247,
     "user": {
      "displayName": "051_ Bhoomi Jadhav",
      "userId": "02389554652764327161"
     },
     "user_tz": -330
    },
    "id": "iUDFCcQAN5M-",
    "outputId": "9c674d1e-de72-431d-c640-ab323fca699e"
   },
   "outputs": [
    {
     "name": "stdout",
     "output_type": "stream",
     "text": [
      "Operations on a and b\n",
      "30 -10 200 0.5 10\n",
      "10\n",
      "12\n",
      "156\n",
      "312\n",
      "0\n",
      "False\n",
      "True\n",
      "True\n",
      "True\n",
      "False\n",
      "False\n",
      "or works\n",
      "and false\n",
      "not works\n",
      "else false\n"
     ]
    }
   ],
   "source": [
    "# Arithmetic operator\n",
    "a=10\n",
    "b=20\n",
    "print(\"Operations on a and b\")\n",
    "print(a+b,a-b,a*b,a/b,a%b)\n",
    "\n",
    "# assignment operator /increment/decrement\n",
    "c=10\n",
    "print(c)\n",
    "c +=2\n",
    "print(c)\n",
    "c +=c**2 #c=c+c^2\n",
    "print(c)\n",
    "c *= 2\n",
    "print(c)\n",
    "c %= 3\n",
    "print(c)\n",
    "\n",
    "#comparison operators\n",
    "print(a==b)\n",
    "print(a!=b)\n",
    "print(a<b)\n",
    "print(a<=b)\n",
    "print(a>b)\n",
    "print(a>=b)\n",
    "\n",
    "#logical operators\n",
    "p=10\n",
    "r=5\n",
    "if(p==r or p>r):\n",
    "    print(\"or works\")\n",
    "else:\n",
    "    print(\" orfalse\")\n",
    "\n",
    "if(p==r and p>r):\n",
    "    print(\"and works\")\n",
    "else:\n",
    "    print(\"and false\")\n",
    "\n",
    "if not(p==r and p>r): #in not true changes to false and false to changes so in this code first condn is false and second is true due to and entire statement become false and due to not it becomes true so now not works print\n",
    "    print(\"not works\")\n",
    "else:\n",
    "    print(\"not false\")\n",
    "\n",
    "\n",
    "#elif\n",
    "if(p==r and p>r):\n",
    "    print(\"and works\")\n",
    "elif(p<r):\n",
    "    print(\"elif works\")\n",
    "else:\n",
    "    print(\"else false\")"
   ]
  }
 ],
 "metadata": {
  "colab": {
   "authorship_tag": "ABX9TyMpt2HwnfwkSN+oj7gUGEBn",
   "provenance": []
  },
  "kernelspec": {
   "display_name": "Python 3",
   "name": "python3"
  },
  "language_info": {
   "codemirror_mode": {
    "name": "ipython",
    "version": 3
   },
   "file_extension": ".py",
   "mimetype": "text/x-python",
   "name": "python",
   "nbconvert_exporter": "python",
   "pygments_lexer": "ipython3",
   "version": "3.13.5"
  }
 },
 "nbformat": 4,
 "nbformat_minor": 0
}
