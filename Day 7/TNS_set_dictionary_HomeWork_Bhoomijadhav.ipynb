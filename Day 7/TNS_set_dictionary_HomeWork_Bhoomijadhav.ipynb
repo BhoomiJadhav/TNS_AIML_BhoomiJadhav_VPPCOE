{
 "cells": [
  {
   "cell_type": "markdown",
   "id": "a206e165",
   "metadata": {},
   "source": [
    "homework of set ->\n",
    "1. remove duplicates from a llist using set\n",
    "2. check if two sets have common elements\n",
    "3. find elements present in  only one of the two sets"
   ]
  },
  {
   "cell_type": "code",
   "execution_count": 2,
   "id": "2839625b",
   "metadata": {},
   "outputs": [
    {
     "name": "stdout",
     "output_type": "stream",
     "text": [
      "New list with unique elements: [1, 2, 3, 4, 5, 6, 7, 8, 9, 10]\n"
     ]
    }
   ],
   "source": [
    "#Q.1 \n",
    "my_list=[1, 2, 3, 4, 5, 6, 7, 8, 9, 10,2, 3, 4, 5, 6, 7, 8, 9, 10]\n",
    "new_list=list(set(my_list))\n",
    "print(\"New list with unique elements:\", new_list)"
   ]
  },
  {
   "cell_type": "code",
   "execution_count": 3,
   "id": "7ed79f44",
   "metadata": {},
   "outputs": [
    {
     "name": "stdout",
     "output_type": "stream",
     "text": [
      "Hava common elements: {4, 5}\n"
     ]
    }
   ],
   "source": [
    "#Q.2 check if two sets have common elements\n",
    "set1 = {1, 2, 3, 4, 5}\n",
    "set2 = {4, 5, 6, 7, 8}\n",
    "common_elements = set1.intersection(set2)\n",
    "if common_elements:\n",
    "    print(\"Hava common elements:\", common_elements)"
   ]
  },
  {
   "cell_type": "code",
   "execution_count": 4,
   "id": "f8f53ce1",
   "metadata": {},
   "outputs": [
    {
     "name": "stdout",
     "output_type": "stream",
     "text": [
      "Elements present in only one set: {1, 2, 3, 6, 7, 8}\n"
     ]
    }
   ],
   "source": [
    "#Q.3 find elem present in only one of two sets\n",
    "set1 = {1, 2, 3, 4, 5}\n",
    "set2 = {4, 5, 6, 7, 8}\n",
    "unique_elements = set1.symmetric_difference(set2)\n",
    "print(\"Elements present in only one set:\", unique_elements)"
   ]
  },
  {
   "cell_type": "markdown",
   "id": "6cc55058",
   "metadata": {},
   "source": [
    "homework of dictionary -> \n",
    "1. given a list of numbers, count how many times each number occurs using a dictionary\n",
    "2. find the key with maximum value "
   ]
  },
  {
   "cell_type": "code",
   "execution_count": 6,
   "id": "33ca5547",
   "metadata": {},
   "outputs": [
    {
     "name": "stdout",
     "output_type": "stream",
     "text": [
      "Count of each number: {1: 1, 2: 2, 3: 3, 4: 3}\n"
     ]
    }
   ],
   "source": [
    "#Q.1 given a list of numebersm count how many times each number occurs using a dictionary\n",
    "numbers = [1, 2, 2, 3, 3, 3, 4, 4, 4]\n",
    "count_dict = {}\n",
    "for num in numbers:\n",
    "    if num in count_dict:\n",
    "        count_dict[num] += 1\n",
    "    else:\n",
    "        count_dict[num] = 1\n",
    "print(\"Count of each number:\", count_dict)"
   ]
  },
  {
   "cell_type": "code",
   "execution_count": 7,
   "id": "6f6add1d",
   "metadata": {},
   "outputs": [
    {
     "name": "stdout",
     "output_type": "stream",
     "text": [
      "Key with maximum value: b\n"
     ]
    }
   ],
   "source": [
    "#Q.2 find the key with the maximum value in a dictionary\n",
    "my_dict = {'a': 10, 'b': 20, 'c': 15}\n",
    "max_key = max(my_dict, key=my_dict.get)\n",
    "print(\"Key with maximum value:\", max_key)"
   ]
  }
 ],
 "metadata": {
  "kernelspec": {
   "display_name": "Python 3",
   "language": "python",
   "name": "python3"
  },
  "language_info": {
   "codemirror_mode": {
    "name": "ipython",
    "version": 3
   },
   "file_extension": ".py",
   "mimetype": "text/x-python",
   "name": "python",
   "nbconvert_exporter": "python",
   "pygments_lexer": "ipython3",
   "version": "3.13.5"
  }
 },
 "nbformat": 4,
 "nbformat_minor": 5
}
