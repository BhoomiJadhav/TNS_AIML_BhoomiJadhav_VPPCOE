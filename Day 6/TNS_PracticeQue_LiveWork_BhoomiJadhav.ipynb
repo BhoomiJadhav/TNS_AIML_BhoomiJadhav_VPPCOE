{
 "cells": [
  {
   "cell_type": "markdown",
   "id": "938a4b91",
   "metadata": {},
   "source": [
    "lists\n",
    "1.write a python function that takes a list of integers and returns a new list with all the even no doubled\n",
    "2.given a list of string, write code to removve all duplicate elements and print the unique list\n",
    "\n",
    "tuples\n",
    "1.write a python program that takes a tuple of no and return the sum of all ele\n",
    "2.given a tuple of strings,write code to convert it into a list and add a new string ele to the list\n",
    "\n",
    "fundamental python\n",
    "1.write a py function that checks if a given no is prime or not\n",
    "2.write a py python program that reads a string from user and prints it in reverse"
   ]
  },
  {
   "cell_type": "code",
   "execution_count": 2,
   "id": "42ad276c",
   "metadata": {},
   "outputs": [
    {
     "name": "stdout",
     "output_type": "stream",
     "text": [
      "New list with even numbers multiplied by 2: [24, 28, 32]\n"
     ]
    }
   ],
   "source": [
    "def multiply_even_numbers(new_list):\n",
    "    \n",
    "    new_list = [int(i) for i in new_list]\n",
    "    new_list=[x*2  for x in new_list if x % 2 == 0]\n",
    "\n",
    "    print(\"New list with even numbers multiplied by 2:\", new_list)\n",
    "    \n",
    "new_list=input(\"Enter a list of numbers separated by spaces: \").split(',')\n",
    "multiply_even_numbers(new_list)\n"
   ]
  },
  {
   "cell_type": "code",
   "execution_count": 1,
   "id": "795c40d2",
   "metadata": {},
   "outputs": [
    {
     "name": "stdout",
     "output_type": "stream",
     "text": [
      "Unique list: ['bhoomi', 'jadhav', 's', 'x', 'a']\n"
     ]
    }
   ],
   "source": [
    "string_list = input(\"Enter a list of strings separated by commas: \").split(',')\n",
    "unique_list = list(dict.fromkeys([s.strip() for s in string_list]))\n",
    "print(\"Unique list:\", unique_list)"
   ]
  }
 ],
 "metadata": {
  "kernelspec": {
   "display_name": "Python 3",
   "language": "python",
   "name": "python3"
  },
  "language_info": {
   "codemirror_mode": {
    "name": "ipython",
    "version": 3
   },
   "file_extension": ".py",
   "mimetype": "text/x-python",
   "name": "python",
   "nbconvert_exporter": "python",
   "pygments_lexer": "ipython3",
   "version": "3.13.5"
  }
 },
 "nbformat": 4,
 "nbformat_minor": 5
}
